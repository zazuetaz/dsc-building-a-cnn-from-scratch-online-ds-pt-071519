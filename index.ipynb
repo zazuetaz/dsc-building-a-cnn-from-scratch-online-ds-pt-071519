{
 "cells": [
  {
   "cell_type": "markdown",
   "metadata": {},
   "source": [
    "# Building a CNN from Scratch - Lab\n",
    "\n",
    "## Introduction\n",
    "\n",
    "Now that you have background knowledge regarding how CNNs work and how to build them using Keras, its time to practice those skills a little more independently in order to build a CNN on your own to solve a image recognition problem. In this lab, you'll practice building an image classifier from start to finish using a CNN.  \n",
    "\n",
    "## Objectives\n",
    "\n",
    "In this lab you will: \n",
    "\n",
    "- Load images from a hierarchical file structure using an image datagenerator \n",
    "- Apply data augmentation to image files before training a neural network \n",
    "- Build a CNN using Keras \n",
    "- Visualize and evaluate the performance of CNN models \n",
    "\n",
    "## Loading the Images\n",
    "\n",
    "The data for this lab concerns lung xray images for pneumonia. The original dataset is from Kaggle. We have downsampled this dataset in order to reduce training time for you when you design and fit your model to the data. ⏰ It is anticipated that this process will take approximately one hour to run on a standard machine, although times will vary depending on your particular computer and set up. At the end of this lab, you are welcome to try training on the complete dataset and observe the impact on the model's overall accuracy. \n",
    "\n",
    "You can find the initial downsampled dataset in a subdirectory, **chest_xray**, of this repository. "
   ]
  },
  {
   "cell_type": "code",
   "execution_count": 2,
   "metadata": {},
   "outputs": [
    {
     "name": "stderr",
     "output_type": "stream",
     "text": [
      "Using TensorFlow backend.\n"
     ]
    }
   ],
   "source": [
    "from keras.preprocessing.image import ImageDataGenerator\n",
    "import datetime\n",
    "\n",
    "original_start = datetime.datetime.now()\n",
    "start = datetime.datetime.now()"
   ]
  },
  {
   "cell_type": "code",
   "execution_count": 3,
   "metadata": {},
   "outputs": [
    {
     "name": "stdout",
     "output_type": "stream",
     "text": [
      "Found 1738 images belonging to 2 classes.\n",
      "Found 4 images belonging to 2 classes.\n"
     ]
    }
   ],
   "source": [
    "# Load the images; be sure to also preprocess these into tensors \n",
    "train_dir = 'chest_xray_downsampled/train'\n",
    "validation_dir = 'chest_xray_downsampled/val/'\n",
    "test_dir = 'chest_xray_downsampled/test/'\n",
    "\n",
    "# All images will be rescaled by 1./255\n",
    "train_datagen = ImageDataGenerator(rescale=1./255)\n",
    "test_datagen = ImageDataGenerator(rescale=1./255)\n",
    "\n",
    "train_generator = train_datagen.flow_from_directory(\n",
    "        # This is the target directory\n",
    "        train_dir,\n",
    "        # All images will be resized to 150x150\n",
    "        target_size=(150, 150),\n",
    "        batch_size=20,\n",
    "        # Since we use binary_crossentropy loss, we need binary labels\n",
    "        class_mode='binary')\n",
    "\n",
    "validation_generator = test_datagen.flow_from_directory(validation_dir,\n",
    "                                                        target_size=(150, 150),\n",
    "                                                        batch_size=20,\n",
    "                                                        class_mode='binary')"
   ]
  },
  {
   "cell_type": "markdown",
   "metadata": {},
   "source": [
    "## Designing the Model\n",
    "\n",
    "Now it's time to design your CNN using Keras! Remember a few things when doing this: \n",
    "\n",
    "- You should alternate convolutional and pooling layers\n",
    "- You should have later layers have a larger number of parameters in order to detect more abstract patterns\n",
    "- Add some final dense layers to add a classifier to the convolutional base \n",
    "- Compile this model "
   ]
  },
  {
   "cell_type": "code",
   "execution_count": 4,
   "metadata": {},
   "outputs": [],
   "source": [
    "# Your code here; design and compile the model\n",
    "from keras import layers\n",
    "from keras import models\n",
    "\n",
    "model = models.Sequential()\n",
    "model.add(layers.Conv2D(32, (3, 3), activation='relu',\n",
    "                        input_shape=(150, 150, 3)))\n",
    "model.add(layers.MaxPooling2D((2, 2)))\n",
    "model.add(layers.Conv2D(64, (3, 3), activation='relu'))\n",
    "model.add(layers.MaxPooling2D((2, 2)))\n",
    "model.add(layers.Conv2D(128, (3, 3), activation='relu'))\n",
    "model.add(layers.MaxPooling2D((2, 2)))\n",
    "model.add(layers.Conv2D(128, (3, 3), activation='relu'))\n",
    "model.add(layers.MaxPooling2D((2, 2)))\n",
    "model.add(layers.Flatten())\n",
    "model.add(layers.Dense(512, activation='relu'))\n",
    "model.add(layers.Dense(1, activation='sigmoid'))"
   ]
  },
  {
   "cell_type": "code",
   "execution_count": 5,
   "metadata": {},
   "outputs": [],
   "source": [
    "from keras import optimizers\n",
    "\n",
    "model.compile(loss='binary_crossentropy',\n",
    "              optimizer=optimizers.RMSprop(lr=1e-4),\n",
    "              metrics=['acc'])"
   ]
  },
  {
   "cell_type": "markdown",
   "metadata": {},
   "source": [
    "## Training and Evaluating the Model\n",
    "\n",
    "Remember that training deep networks is resource intensive: depending on the size of the data, even a CNN with 3-4 successive convolutional and pooling layers is apt to take a hours to train on a high end laptop. Using 30 epochs and 8 layers (alternating between convolutional and pooling), our model took about 40 minutes to run on a year old macbook pro.\n",
    "\n",
    "\n",
    "If you are concerned with runtime, you may want to set your model to run the training epochs overnight.  \n",
    "\n",
    "**If you are going to run this process overnight, be sure to also script code for the following questions concerning data augmentation. Check your code twice (or more) and then set the notebook to run all, or something equivalent to have them train overnight.** "
   ]
  },
  {
   "cell_type": "code",
   "execution_count": 6,
   "metadata": {
    "scrolled": true
   },
   "outputs": [
    {
     "name": "stdout",
     "output_type": "stream",
     "text": [
      "Epoch 1/30\n",
      "100/100 [==============================] - 82s 821ms/step - loss: 0.4978 - acc: 0.7818 - val_loss: 0.9517 - val_acc: 0.7500\n",
      "Epoch 2/30\n",
      "100/100 [==============================] - 100s 997ms/step - loss: 0.2732 - acc: 0.8927 - val_loss: 0.9175 - val_acc: 0.5000\n",
      "Epoch 3/30\n",
      "100/100 [==============================] - 119s 1s/step - loss: 0.1854 - acc: 0.9253 - val_loss: 1.2090 - val_acc: 0.5000\n",
      "Epoch 4/30\n",
      "100/100 [==============================] - 108s 1s/step - loss: 0.1416 - acc: 0.9404 - val_loss: 0.8579 - val_acc: 0.7500\n",
      "Epoch 5/30\n",
      "100/100 [==============================] - 113s 1s/step - loss: 0.1242 - acc: 0.9504 - val_loss: 1.3709 - val_acc: 0.7500\n",
      "Epoch 6/30\n",
      "100/100 [==============================] - 106s 1s/step - loss: 0.1060 - acc: 0.9584 - val_loss: 1.0274 - val_acc: 0.7500\n",
      "Epoch 7/30\n",
      "100/100 [==============================] - 105s 1s/step - loss: 0.0915 - acc: 0.9655 - val_loss: 1.6662 - val_acc: 0.5000\n",
      "Epoch 8/30\n",
      "100/100 [==============================] - 107s 1s/step - loss: 0.0783 - acc: 0.9650 - val_loss: 1.7698 - val_acc: 0.7500\n",
      "Epoch 9/30\n",
      "100/100 [==============================] - 115s 1s/step - loss: 0.0786 - acc: 0.9718 - val_loss: 2.6339 - val_acc: 0.5000\n",
      "Epoch 10/30\n",
      "100/100 [==============================] - 125s 1s/step - loss: 0.0605 - acc: 0.9765 - val_loss: 1.6711 - val_acc: 0.5000\n",
      "Epoch 11/30\n",
      "100/100 [==============================] - 114s 1s/step - loss: 0.0577 - acc: 0.9815 - val_loss: 0.6701 - val_acc: 0.7500\n",
      "Epoch 12/30\n",
      "100/100 [==============================] - 124s 1s/step - loss: 0.0501 - acc: 0.9860 - val_loss: 1.0672 - val_acc: 0.7500\n",
      "Epoch 13/30\n",
      "100/100 [==============================] - 129s 1s/step - loss: 0.0435 - acc: 0.9830 - val_loss: 1.2296 - val_acc: 0.5000\n",
      "Epoch 14/30\n",
      "100/100 [==============================] - 121s 1s/step - loss: 0.0355 - acc: 0.9885 - val_loss: 1.6131 - val_acc: 0.7500\n",
      "Epoch 15/30\n",
      "100/100 [==============================] - 122s 1s/step - loss: 0.0325 - acc: 0.9880 - val_loss: 0.7258 - val_acc: 0.5000\n",
      "Epoch 16/30\n",
      "100/100 [==============================] - 126s 1s/step - loss: 0.0324 - acc: 0.9875 - val_loss: 1.8681 - val_acc: 0.7500\n",
      "Epoch 17/30\n",
      "100/100 [==============================] - 118s 1s/step - loss: 0.0257 - acc: 0.9900 - val_loss: 1.5814 - val_acc: 0.7500\n",
      "Epoch 18/30\n",
      "100/100 [==============================] - 110s 1s/step - loss: 0.0206 - acc: 0.9930 - val_loss: 1.5418 - val_acc: 0.7500\n",
      "Epoch 19/30\n",
      "100/100 [==============================] - 110s 1s/step - loss: 0.0205 - acc: 0.9934 - val_loss: 1.8194 - val_acc: 0.7500\n",
      "Epoch 20/30\n",
      "100/100 [==============================] - 105s 1s/step - loss: 0.0147 - acc: 0.9940 - val_loss: 1.8681 - val_acc: 0.7500\n",
      "Epoch 21/30\n",
      "100/100 [==============================] - 107s 1s/step - loss: 0.0167 - acc: 0.9930 - val_loss: 1.1924 - val_acc: 0.7500\n",
      "Epoch 22/30\n",
      "100/100 [==============================] - 103s 1s/step - loss: 0.0113 - acc: 0.9980 - val_loss: 1.5901 - val_acc: 0.7500\n",
      "Epoch 23/30\n",
      "100/100 [==============================] - 108s 1s/step - loss: 0.0071 - acc: 0.9975 - val_loss: 0.6683 - val_acc: 0.7500\n",
      "Epoch 24/30\n",
      "100/100 [==============================] - 103s 1s/step - loss: 0.0100 - acc: 0.9970 - val_loss: 1.4416 - val_acc: 0.7500\n",
      "Epoch 25/30\n",
      "100/100 [==============================] - 103s 1s/step - loss: 0.0071 - acc: 0.9980 - val_loss: 1.4853 - val_acc: 0.7500\n",
      "Epoch 26/30\n",
      "100/100 [==============================] - 106s 1s/step - loss: 0.0057 - acc: 0.9980 - val_loss: 5.6102 - val_acc: 0.5000\n",
      "Epoch 27/30\n",
      "100/100 [==============================] - 101s 1s/step - loss: 0.0084 - acc: 0.9970 - val_loss: 2.1908 - val_acc: 0.5000\n",
      "Epoch 28/30\n",
      "100/100 [==============================] - 104s 1s/step - loss: 0.0023 - acc: 0.9990 - val_loss: 2.5834 - val_acc: 0.5000\n",
      "Epoch 29/30\n",
      "100/100 [==============================] - 123s 1s/step - loss: 0.0051 - acc: 0.9980 - val_loss: 1.7037 - val_acc: 0.7500\n",
      "Epoch 30/30\n",
      "100/100 [==============================] - 112s 1s/step - loss: 0.0012 - acc: 1.0000 - val_loss: 1.2899 - val_acc: 0.7500\n"
     ]
    }
   ],
   "source": [
    "# Set the model to train \n",
    "# ⏰ This cell may take several minutes to run \n",
    "history = model.fit_generator(train_generator, \n",
    "                              steps_per_epoch=100, \n",
    "                              epochs=30, \n",
    "                              validation_data=validation_generator, \n",
    "                              validation_steps=50)"
   ]
  },
  {
   "cell_type": "code",
   "execution_count": 7,
   "metadata": {},
   "outputs": [
    {
     "data": {
      "image/png": "[encoded data removed]",
      "text/plain": [
       "<Figure size 432x288 with 1 Axes>"
      ]
     },
     "metadata": {
      "needs_background": "light"
     },
     "output_type": "display_data"
    },
    {
     "data": {
      "image/png": "[encoded data removed]",
      "text/plain": [
       "<Figure size 432x288 with 1 Axes>"
      ]
     },
     "metadata": {
      "needs_background": "light"
     },
     "output_type": "display_data"
    }
   ],
   "source": [
    "# Plot history\n",
    "import matplotlib.pyplot as plt\n",
    "%matplotlib inline \n",
    "\n",
    "acc = history.history['acc']\n",
    "val_acc = history.history['val_acc']\n",
    "loss = history.history['loss']\n",
    "val_loss = history.history['val_loss']\n",
    "epochs = range(len(acc))\n",
    "plt.plot(epochs, acc, 'bo', label='Training acc')\n",
    "plt.plot(epochs, val_acc, 'b', label='Validation acc')\n",
    "plt.title('Training and validation accuracy')\n",
    "plt.legend()\n",
    "plt.figure()\n",
    "plt.plot(epochs, loss, 'bo', label='Training loss')\n",
    "plt.plot(epochs, val_loss, 'b', label='Validation loss')\n",
    "plt.title('Training and validation loss')\n",
    "plt.legend()\n",
    "plt.show()"
   ]
  },
  {
   "cell_type": "code",
   "execution_count": 8,
   "metadata": {},
   "outputs": [
    {
     "name": "stdout",
     "output_type": "stream",
     "text": [
      "Training took a total of 1:07:04.610776\n"
     ]
    }
   ],
   "source": [
    "end = datetime.datetime.now()\n",
    "elapsed = end - start\n",
    "print('Training took a total of {}'.format(elapsed))"
   ]
  },
  {
   "cell_type": "markdown",
   "metadata": {},
   "source": [
    "## Save the Model"
   ]
  },
  {
   "cell_type": "code",
   "execution_count": 9,
   "metadata": {},
   "outputs": [],
   "source": [
    "# Your code here; save the model for future reference\n",
    "model.save('chest_xray_downsampled_data.h5')"
   ]
  },
  {
   "cell_type": "markdown",
   "metadata": {},
   "source": [
    "## Data Augmentation\n",
    "\n",
    "Recall that data augmentation is typically always a necessary step when using a small dataset as this one which you have been provided. As such, if you haven't already, implement a data augmentation setup.\n",
    "\n",
    "**Warning: ⏰ This process took nearly 4 hours to run on a relatively new macbook pro. As such, it is recommended that you simply code the setup and compare to the solution branch, or set the process to run overnight if you do choose to actually run the code.** "
   ]
  },
  {
   "cell_type": "code",
   "execution_count": 11,
   "metadata": {
    "scrolled": true
   },
   "outputs": [
    {
     "name": "stdout",
     "output_type": "stream",
     "text": [
      "Found 1738 images belonging to 2 classes.\n",
      "Found 4 images belonging to 2 classes.\n",
      "Epoch 1/100\n",
      "100/100 [==============================] - 154s 2s/step - loss: 3.7820 - acc: 0.7629 - val_loss: 0.4390 - val_acc: 0.7500\n",
      "Epoch 2/100\n",
      "100/100 [==============================] - 177s 2s/step - loss: 6.7185 - acc: 0.5819 - val_loss: 2.8067 - val_acc: 0.5000\n",
      "Epoch 3/100\n",
      "100/100 [==============================] - 175s 2s/step - loss: 5.9151 - acc: 0.6302 - val_loss: 3.9932 - val_acc: 0.7500\n",
      "Epoch 4/100\n",
      "100/100 [==============================] - 178s 2s/step - loss: 4.0299 - acc: 0.7472 - val_loss: 3.9932 - val_acc: 0.7500\n",
      "Epoch 5/100\n",
      "100/100 [==============================] - 178s 2s/step - loss: 4.1553 - acc: 0.7394 - val_loss: 3.9932 - val_acc: 0.7500\n",
      "Epoch 6/100\n",
      "100/100 [==============================] - 205s 2s/step - loss: 4.1561 - acc: 0.7393 - val_loss: 3.9932 - val_acc: 0.7500\n",
      "Epoch 7/100\n",
      "100/100 [==============================] - 185s 2s/step - loss: 3.9966 - acc: 0.7493 - val_loss: 3.9932 - val_acc: 0.7500\n",
      "Epoch 8/100\n",
      "100/100 [==============================] - 180s 2s/step - loss: 4.1849 - acc: 0.7375 - val_loss: 3.1810 - val_acc: 0.7500\n",
      "Epoch 9/100\n",
      "100/100 [==============================] - 191s 2s/step - loss: 4.1205 - acc: 0.7416 - val_loss: 4.4900 - val_acc: 0.5000\n",
      "Epoch 10/100\n",
      "100/100 [==============================] - 196s 2s/step - loss: 4.0542 - acc: 0.7457 - val_loss: 4.4900 - val_acc: 0.5000\n",
      "Epoch 11/100\n",
      "100/100 [==============================] - 206s 2s/step - loss: 4.1151 - acc: 0.7419 - val_loss: 4.4900 - val_acc: 0.5000\n",
      "Epoch 12/100\n",
      "100/100 [==============================] - 199s 2s/step - loss: 4.1113 - acc: 0.7421 - val_loss: 4.4900 - val_acc: 0.5000\n",
      "Epoch 13/100\n",
      "100/100 [==============================] - 200s 2s/step - loss: 4.1562 - acc: 0.7393 - val_loss: 4.4900 - val_acc: 0.5000\n",
      "Epoch 14/100\n",
      "100/100 [==============================] - 187s 2s/step - loss: 3.9916 - acc: 0.7496 - val_loss: 4.4900 - val_acc: 0.5000\n",
      "Epoch 15/100\n",
      "100/100 [==============================] - 182s 2s/step - loss: 4.1749 - acc: 0.7381 - val_loss: 4.4900 - val_acc: 0.5000\n",
      "Epoch 16/100\n",
      "100/100 [==============================] - 191s 2s/step - loss: 4.1402 - acc: 0.7403 - val_loss: 4.4900 - val_acc: 0.5000\n",
      "Epoch 17/100\n",
      "100/100 [==============================] - 165s 2s/step - loss: 4.0337 - acc: 0.7470 - val_loss: 4.4900 - val_acc: 0.5000\n",
      "Epoch 18/100\n",
      "100/100 [==============================] - 161s 2s/step - loss: 4.0864 - acc: 0.7437 - val_loss: 4.4900 - val_acc: 0.5000\n",
      "Epoch 19/100\n",
      "100/100 [==============================] - 159s 2s/step - loss: 4.0516 - acc: 0.7459 - val_loss: 4.4900 - val_acc: 0.5000\n",
      "Epoch 20/100\n",
      "100/100 [==============================] - 165s 2s/step - loss: 4.1181 - acc: 0.7417 - val_loss: 4.4900 - val_acc: 0.5000\n",
      "Epoch 21/100\n",
      "100/100 [==============================] - 168s 2s/step - loss: 4.0677 - acc: 0.7449 - val_loss: 4.4900 - val_acc: 0.5000\n",
      "Epoch 22/100\n",
      "100/100 [==============================] - 181s 2s/step - loss: 3.9563 - acc: 0.7516 - val_loss: 3.9964 - val_acc: 0.7500\n",
      "Epoch 23/100\n",
      "100/100 [==============================] - 190s 2s/step - loss: 4.1428 - acc: 0.7401 - val_loss: 3.9964 - val_acc: 0.7500\n",
      "Epoch 24/100\n",
      "100/100 [==============================] - 216s 2s/step - loss: 4.0665 - acc: 0.7449 - val_loss: 3.9964 - val_acc: 0.7500\n",
      "Epoch 25/100\n",
      "100/100 [==============================] - 230s 2s/step - loss: 4.0874 - acc: 0.7436 - val_loss: 3.9964 - val_acc: 0.7500\n",
      "Epoch 26/100\n",
      "100/100 [==============================] - 213s 2s/step - loss: 4.1298 - acc: 0.7410 - val_loss: 3.9964 - val_acc: 0.7500\n",
      "Epoch 27/100\n",
      "100/100 [==============================] - 225s 2s/step - loss: 4.0982 - acc: 0.7429 - val_loss: 3.9964 - val_acc: 0.7500\n",
      "Epoch 28/100\n",
      "100/100 [==============================] - 250s 3s/step - loss: 4.0455 - acc: 0.7463 - val_loss: 3.9964 - val_acc: 0.7500\n",
      "Epoch 29/100\n",
      "100/100 [==============================] - 243s 2s/step - loss: 4.1190 - acc: 0.7416 - val_loss: 3.9964 - val_acc: 0.7500\n",
      "Epoch 30/100\n",
      "100/100 [==============================] - 272s 3s/step - loss: 4.1926 - acc: 0.7370 - val_loss: 3.9964 - val_acc: 0.7500\n",
      "Epoch 31/100\n",
      "100/100 [==============================] - 211s 2s/step - loss: 4.0534 - acc: 0.7458 - val_loss: 3.9964 - val_acc: 0.7500\n",
      "Epoch 32/100\n",
      "100/100 [==============================] - 197s 2s/step - loss: 4.0835 - acc: 0.7439 - val_loss: 6.3327 - val_acc: 0.5000\n",
      "Epoch 33/100\n",
      "100/100 [==============================] - 193s 2s/step - loss: 4.1002 - acc: 0.7428 - val_loss: 6.3327 - val_acc: 0.5000\n",
      "Epoch 34/100\n",
      "100/100 [==============================] - 192s 2s/step - loss: 4.0621 - acc: 0.7452 - val_loss: 6.3327 - val_acc: 0.5000\n",
      "Epoch 35/100\n",
      "100/100 [==============================] - 195s 2s/step - loss: 4.1758 - acc: 0.7381 - val_loss: 6.3327 - val_acc: 0.5000\n",
      "Epoch 36/100\n",
      "100/100 [==============================] - 192s 2s/step - loss: 4.1500 - acc: 0.7397 - val_loss: 6.3327 - val_acc: 0.5000\n",
      "Epoch 37/100\n",
      "100/100 [==============================] - 194s 2s/step - loss: 4.0515 - acc: 0.7459 - val_loss: 6.3327 - val_acc: 0.5000\n",
      "Epoch 38/100\n",
      "100/100 [==============================] - 195s 2s/step - loss: 4.0287 - acc: 0.7473 - val_loss: 6.3327 - val_acc: 0.5000\n",
      "Epoch 39/100\n",
      "100/100 [==============================] - 186s 2s/step - loss: 4.0826 - acc: 0.7439 - val_loss: 6.3327 - val_acc: 0.5000\n",
      "Epoch 40/100\n",
      "100/100 [==============================] - 176s 2s/step - loss: 4.1251 - acc: 0.7412 - val_loss: 6.3327 - val_acc: 0.5000\n",
      "Epoch 41/100\n",
      "100/100 [==============================] - 170s 2s/step - loss: 4.1242 - acc: 0.7413 - val_loss: 6.3327 - val_acc: 0.5000\n",
      "Epoch 42/100\n",
      "100/100 [==============================] - 169s 2s/step - loss: 4.0424 - acc: 0.7464 - val_loss: 6.3327 - val_acc: 0.5000\n",
      "Epoch 43/100\n",
      "100/100 [==============================] - 169s 2s/step - loss: 4.0929 - acc: 0.7433 - val_loss: 6.3327 - val_acc: 0.5000\n",
      "Epoch 44/100\n",
      "100/100 [==============================] - 169s 2s/step - loss: 4.1351 - acc: 0.7406 - val_loss: 6.3327 - val_acc: 0.5000\n",
      "Epoch 45/100\n",
      "100/100 [==============================] - 169s 2s/step - loss: 4.1450 - acc: 0.7400 - val_loss: 6.3327 - val_acc: 0.5000\n",
      "Epoch 46/100\n",
      "100/100 [==============================] - 171s 2s/step - loss: 4.0114 - acc: 0.7484 - val_loss: 6.3327 - val_acc: 0.5000\n",
      "Epoch 47/100\n",
      "100/100 [==============================] - 175s 2s/step - loss: 4.1172 - acc: 0.7417 - val_loss: 6.3327 - val_acc: 0.5000\n",
      "Epoch 48/100\n",
      "100/100 [==============================] - 173s 2s/step - loss: 4.0627 - acc: 0.7452 - val_loss: 6.3327 - val_acc: 0.5000\n",
      "Epoch 49/100\n",
      "100/100 [==============================] - 170s 2s/step - loss: 4.1609 - acc: 0.7390 - val_loss: 6.3327 - val_acc: 0.5000\n",
      "Epoch 50/100\n",
      "100/100 [==============================] - 169s 2s/step - loss: 4.0644 - acc: 0.7451 - val_loss: 6.3327 - val_acc: 0.5000\n",
      "Epoch 51/100\n",
      "100/100 [==============================] - 169s 2s/step - loss: 4.1210 - acc: 0.7415 - val_loss: 6.3327 - val_acc: 0.5000\n",
      "Epoch 52/100\n",
      "100/100 [==============================] - 168s 2s/step - loss: 4.0287 - acc: 0.7473 - val_loss: 6.3327 - val_acc: 0.5000\n",
      "Epoch 53/100\n",
      "100/100 [==============================] - 169s 2s/step - loss: 4.0762 - acc: 0.7443 - val_loss: 6.3327 - val_acc: 0.5000\n",
      "Epoch 54/100\n",
      "100/100 [==============================] - 171s 2s/step - loss: 4.2145 - acc: 0.7356 - val_loss: 6.3327 - val_acc: 0.5000\n",
      "Epoch 55/100\n",
      "100/100 [==============================] - 176s 2s/step - loss: 4.0744 - acc: 0.7444 - val_loss: 6.3327 - val_acc: 0.5000\n",
      "Epoch 56/100\n",
      "100/100 [==============================] - 221s 2s/step - loss: 4.1330 - acc: 0.7408 - val_loss: 6.3327 - val_acc: 0.5000\n",
      "Epoch 57/100\n",
      "100/100 [==============================] - 196s 2s/step - loss: 3.9900 - acc: 0.7497 - val_loss: 6.3327 - val_acc: 0.5000\n",
      "Epoch 58/100\n",
      "100/100 [==============================] - 171s 2s/step - loss: 4.1034 - acc: 0.7426 - val_loss: 6.3327 - val_acc: 0.5000\n",
      "Epoch 59/100\n",
      "100/100 [==============================] - 202s 2s/step - loss: 4.0861 - acc: 0.7437 - val_loss: 6.3327 - val_acc: 0.5000\n",
      "Epoch 60/100\n",
      "100/100 [==============================] - 169s 2s/step - loss: 4.1371 - acc: 0.7405 - val_loss: 6.3327 - val_acc: 0.5000\n",
      "Epoch 61/100\n"
     ]
    },
    {
     "name": "stdout",
     "output_type": "stream",
     "text": [
      "100/100 [==============================] - 169s 2s/step - loss: 4.0762 - acc: 0.7443 - val_loss: 6.3327 - val_acc: 0.5000\n",
      "Epoch 62/100\n",
      "100/100 [==============================] - 169s 2s/step - loss: 4.1919 - acc: 0.7371 - val_loss: 6.3327 - val_acc: 0.5000\n",
      "Epoch 63/100\n",
      "100/100 [==============================] - 168s 2s/step - loss: 4.0146 - acc: 0.7482 - val_loss: 6.3327 - val_acc: 0.5000\n",
      "Epoch 64/100\n",
      "100/100 [==============================] - 171s 2s/step - loss: 4.1201 - acc: 0.7416 - val_loss: 6.3327 - val_acc: 0.5000\n",
      "Epoch 65/100\n",
      "100/100 [==============================] - 170s 2s/step - loss: 4.1638 - acc: 0.7388 - val_loss: 6.3327 - val_acc: 0.5000\n",
      "Epoch 66/100\n",
      "100/100 [==============================] - 171s 2s/step - loss: 4.0384 - acc: 0.7467 - val_loss: 6.3327 - val_acc: 0.5000\n",
      "Epoch 67/100\n",
      "100/100 [==============================] - 166s 2s/step - loss: 4.0554 - acc: 0.7456 - val_loss: 6.3327 - val_acc: 0.5000\n",
      "Epoch 68/100\n",
      "100/100 [==============================] - 166s 2s/step - loss: 4.1274 - acc: 0.7411 - val_loss: 6.3327 - val_acc: 0.5000\n",
      "Epoch 69/100\n",
      "100/100 [==============================] - 164s 2s/step - loss: 4.0225 - acc: 0.7477 - val_loss: 6.3327 - val_acc: 0.5000\n",
      "Epoch 70/100\n",
      "100/100 [==============================] - 169s 2s/step - loss: 4.1776 - acc: 0.7380 - val_loss: 6.3327 - val_acc: 0.5000\n",
      "Epoch 71/100\n",
      "100/100 [==============================] - 164s 2s/step - loss: 4.0653 - acc: 0.7450 - val_loss: 6.3327 - val_acc: 0.5000\n",
      "Epoch 72/100\n",
      "100/100 [==============================] - 166s 2s/step - loss: 4.1876 - acc: 0.7373 - val_loss: 6.3327 - val_acc: 0.5000\n",
      "Epoch 73/100\n",
      "100/100 [==============================] - 168s 2s/step - loss: 4.1061 - acc: 0.7424 - val_loss: 6.3327 - val_acc: 0.5000\n",
      "Epoch 74/100\n",
      "100/100 [==============================] - 169s 2s/step - loss: 4.0433 - acc: 0.7464 - val_loss: 6.3327 - val_acc: 0.5000\n",
      "Epoch 75/100\n",
      "100/100 [==============================] - 169s 2s/step - loss: 4.1102 - acc: 0.7422 - val_loss: 6.3327 - val_acc: 0.5000\n",
      "Epoch 76/100\n",
      "100/100 [==============================] - 166s 2s/step - loss: 4.1093 - acc: 0.7422 - val_loss: 6.3327 - val_acc: 0.5000\n",
      "Epoch 77/100\n",
      "100/100 [==============================] - 164s 2s/step - loss: 4.0934 - acc: 0.7432 - val_loss: 6.3327 - val_acc: 0.5000\n",
      "Epoch 78/100\n",
      "100/100 [==============================] - 166s 2s/step - loss: 4.1022 - acc: 0.7427 - val_loss: 6.3327 - val_acc: 0.5000\n",
      "Epoch 79/100\n",
      "100/100 [==============================] - 164s 2s/step - loss: 4.2104 - acc: 0.7359 - val_loss: 6.3327 - val_acc: 0.5000\n",
      "Epoch 80/100\n",
      "100/100 [==============================] - 165s 2s/step - loss: 3.9868 - acc: 0.7499 - val_loss: 6.3327 - val_acc: 0.5000\n",
      "Epoch 81/100\n",
      "100/100 [==============================] - 170s 2s/step - loss: 4.1333 - acc: 0.7407 - val_loss: 6.3327 - val_acc: 0.5000\n",
      "Epoch 82/100\n",
      "100/100 [==============================] - 170s 2s/step - loss: 4.0287 - acc: 0.7473 - val_loss: 6.3327 - val_acc: 0.5000\n",
      "Epoch 83/100\n",
      "100/100 [==============================] - 187s 2s/step - loss: 4.1269 - acc: 0.7411 - val_loss: 6.3327 - val_acc: 0.5000\n",
      "Epoch 84/100\n",
      "100/100 [==============================] - 203s 2s/step - loss: 4.1093 - acc: 0.7422 - val_loss: 6.3327 - val_acc: 0.5000\n",
      "Epoch 85/100\n",
      "100/100 [==============================] - 211s 2s/step - loss: 4.0973 - acc: 0.7430 - val_loss: 6.3327 - val_acc: 0.5000\n",
      "Epoch 86/100\n",
      "100/100 [==============================] - 197s 2s/step - loss: 4.0850 - acc: 0.7438 - val_loss: 6.3327 - val_acc: 0.5000\n",
      "Epoch 87/100\n",
      "100/100 [==============================] - 211s 2s/step - loss: 4.1360 - acc: 0.7406 - val_loss: 6.3327 - val_acc: 0.5000\n",
      "Epoch 88/100\n",
      "100/100 [==============================] - 208s 2s/step - loss: 4.1040 - acc: 0.7426 - val_loss: 6.3327 - val_acc: 0.5000\n",
      "Epoch 89/100\n",
      "100/100 [==============================] - 209s 2s/step - loss: 4.1192 - acc: 0.7416 - val_loss: 6.3327 - val_acc: 0.5000\n",
      "Epoch 90/100\n",
      "100/100 [==============================] - 187s 2s/step - loss: 4.0776 - acc: 0.7442 - val_loss: 6.3327 - val_acc: 0.5000\n",
      "Epoch 91/100\n",
      "100/100 [==============================] - 183s 2s/step - loss: 4.0413 - acc: 0.7465 - val_loss: 6.3327 - val_acc: 0.5000\n",
      "Epoch 92/100\n",
      "100/100 [==============================] - 187s 2s/step - loss: 4.1298 - acc: 0.7410 - val_loss: 6.3327 - val_acc: 0.5000\n",
      "Epoch 93/100\n",
      "100/100 [==============================] - 184s 2s/step - loss: 4.2265 - acc: 0.7349 - val_loss: 6.3327 - val_acc: 0.5000\n",
      "Epoch 94/100\n",
      "100/100 [==============================] - 183s 2s/step - loss: 4.0445 - acc: 0.7463 - val_loss: 6.3327 - val_acc: 0.5000\n",
      "Epoch 95/100\n",
      "100/100 [==============================] - 199s 2s/step - loss: 4.0659 - acc: 0.7450 - val_loss: 6.3327 - val_acc: 0.5000\n",
      "Epoch 96/100\n",
      "100/100 [==============================] - 215s 2s/step - loss: 4.0685 - acc: 0.7448 - val_loss: 6.3327 - val_acc: 0.5000\n",
      "Epoch 97/100\n",
      "100/100 [==============================] - 227s 2s/step - loss: 4.1489 - acc: 0.7398 - val_loss: 6.3327 - val_acc: 0.5000\n",
      "Epoch 98/100\n",
      "100/100 [==============================] - 205s 2s/step - loss: 4.0940 - acc: 0.7432 - val_loss: 6.3327 - val_acc: 0.5000\n",
      "Epoch 99/100\n",
      "100/100 [==============================] - 201s 2s/step - loss: 4.1301 - acc: 0.7409 - val_loss: 6.3327 - val_acc: 0.5000\n",
      "Epoch 100/100\n",
      "100/100 [==============================] - 213s 2s/step - loss: 4.1401 - acc: 0.7403 - val_loss: 6.3327 - val_acc: 0.5000\n"
     ]
    }
   ],
   "source": [
    "# Add data augmentation to the model setup and set the model to train; \n",
    "# See warnings above if you intend to run this block of code \n",
    "# ⏰ This cell may take several hours to run \n",
    "start = datetime.datetime.now()\n",
    "\n",
    "train_datagen = ImageDataGenerator(rotation_range=40, \n",
    "                                   width_shift_range=0.2, \n",
    "                                   height_shift_range=0.2, \n",
    "                                   shear_range=0.2, \n",
    "                                   zoom_range=0.2, \n",
    "                                   horizontal_flip=True, \n",
    "                                   fill_mode='nearest')\n",
    "\n",
    "test_datagen = ImageDataGenerator(rescale=1./255)\n",
    "\n",
    "train_generator = train_datagen.flow_from_directory(\n",
    "        # This is the target directory\n",
    "        train_dir,\n",
    "        # All images will be resized to 150x150\n",
    "        target_size=(150, 150),\n",
    "        batch_size=32,\n",
    "        # Since we use binary_crossentropy loss, we need binary labels\n",
    "        class_mode='binary')\n",
    "\n",
    "validation_generator = test_datagen.flow_from_directory(validation_dir, \n",
    "                                                        target_size=(150, 150), \n",
    "                                                        batch_size=32, \n",
    "                                                        class_mode='binary')\n",
    "\n",
    "history = model.fit_generator(train_generator, \n",
    "                              steps_per_epoch=100, \n",
    "                              epochs=100, \n",
    "                              validation_data=validation_generator, \n",
    "                              validation_steps=50)"
   ]
  },
  {
   "cell_type": "code",
   "execution_count": 12,
   "metadata": {},
   "outputs": [
    {
     "data": {
      "image/png": "[encoded data removed]",
      "text/plain": [
       "<Figure size 432x288 with 1 Axes>"
      ]
     },
     "metadata": {
      "needs_background": "light"
     },
     "output_type": "display_data"
    },
    {
     "data": {
      "image/png": "[encoded data removed]",
      "text/plain": [
       "<Figure size 432x288 with 1 Axes>"
      ]
     },
     "metadata": {
      "needs_background": "light"
     },
     "output_type": "display_data"
    }
   ],
   "source": [
    "acc = history.history['acc']\n",
    "val_acc = history.history['val_acc']\n",
    "loss = history.history['loss']\n",
    "val_loss = history.history['val_loss']\n",
    "epochs = range(len(acc))\n",
    "plt.plot(epochs, acc, 'bo', label='Training acc')\n",
    "plt.plot(epochs, val_acc, 'b', label='Validation acc')\n",
    "plt.title('Training and validation accuracy')\n",
    "plt.legend()\n",
    "plt.figure()\n",
    "plt.plot(epochs, loss, 'bo', label='Training loss')\n",
    "plt.plot(epochs, val_loss, 'b', label='Validation loss')\n",
    "plt.title('Training and validation loss')\n",
    "plt.legend()\n",
    "plt.show()"
   ]
  },
  {
   "cell_type": "code",
   "execution_count": 13,
   "metadata": {},
   "outputs": [
    {
     "name": "stdout",
     "output_type": "stream",
     "text": [
      "Training with data augmentation took a total of 5:10:59.516759\n"
     ]
    }
   ],
   "source": [
    "end = datetime.datetime.now()\n",
    "elapsed = end - start\n",
    "print('Training with data augmentation took a total of {}'.format(elapsed))"
   ]
  },
  {
   "cell_type": "markdown",
   "metadata": {},
   "source": [
    "Save the model for future reference.  "
   ]
  },
  {
   "cell_type": "code",
   "execution_count": 14,
   "metadata": {},
   "outputs": [],
   "source": [
    "# Save the model \n",
    "model.save('chest_xray_downsampled_with_augmentation_data.h5')"
   ]
  },
  {
   "cell_type": "markdown",
   "metadata": {},
   "source": [
    "## Final Evaluation\n",
    "\n",
    "Now use the test set to perform a final evaluation on your model of choice. "
   ]
  },
  {
   "cell_type": "code",
   "execution_count": 15,
   "metadata": {},
   "outputs": [
    {
     "name": "stdout",
     "output_type": "stream",
     "text": [
      "Found 208 images belonging to 2 classes.\n",
      "test acc: 0.6292016811731482\n"
     ]
    }
   ],
   "source": [
    "# Your code here \n",
    "# Perform a final evaluation using the test set\n",
    "test_generator = test_datagen.flow_from_directory(test_dir, \n",
    "                                                  target_size=(150, 150), \n",
    "                                                  batch_size=20, \n",
    "                                                  class_mode='binary')\n",
    "test_loss, test_acc = model.evaluate_generator(test_generator, steps=50)\n",
    "print('test acc:', test_acc)"
   ]
  },
  {
   "cell_type": "markdown",
   "metadata": {},
   "source": [
    "## Level Up (Optional): Adding More Data to the Model\n",
    "\n",
    "As discussed, the current dataset we worked with is a subset of a dataset hosted on Kaggle. Increasing the data that we use to train the model will result in additional performance gains but will also result in longer training times and be more resource intensive.   \n",
    "\n",
    "⏰ It is estimated that training on the full dataset will take approximately 4 hours (and potentially significantly longer) depending on your computer's specifications.\n",
    "\n",
    "In order to test the impact of training on the full dataset, start by downloading the data from Kaggle here: https://www.kaggle.com/paultimothymooney/chest-xray-pneumonia.   "
   ]
  },
  {
   "cell_type": "code",
   "execution_count": null,
   "metadata": {},
   "outputs": [],
   "source": [
    "# Optional extension; Your code here\n",
    "# ⏰ This cell may take several hours to run "
   ]
  },
  {
   "cell_type": "markdown",
   "metadata": {},
   "source": [
    "## Summary\n",
    "\n",
    "Well done! In this lab, you practice building your own CNN for image recognition which drastically outperformed our previous attempts using a standard deep learning model alone. In the upcoming sections, we'll continue to investigate further techniques associated with CNNs including visualizing the representations they learn and techniques to further bolster their performance when we have limited training data such as here."
   ]
  }
 ],
 "metadata": {
  "kernelspec": {
   "display_name": "Python 3",
   "language": "python",
   "name": "python3"
  },
  "language_info": {
   "codemirror_mode": {
    "name": "ipython",
    "version": 3
   },
   "file_extension": ".py",
   "mimetype": "text/x-python",
   "name": "python",
   "nbconvert_exporter": "python",
   "pygments_lexer": "ipython3",
   "version": "3.6.6"
  },
  "toc": {
   "base_numbering": 1,
   "nav_menu": {},
   "number_sections": true,
   "sideBar": true,
   "skip_h1_title": false,
   "title_cell": "Table of Contents",
   "title_sidebar": "Contents",
   "toc_cell": false,
   "toc_position": {},
   "toc_section_display": true,
   "toc_window_display": false
  },
  "varInspector": {
   "cols": {
    "lenName": 16,
    "lenType": 16,
    "lenVar": 40
   },
   "kernels_config": {
    "python": {
     "delete_cmd_postfix": "",
     "delete_cmd_prefix": "del ",
     "library": "var_list.py",
     "varRefreshCmd": "print(var_dic_list())"
    },
    "r": {
     "delete_cmd_postfix": ") ",
     "delete_cmd_prefix": "rm(",
     "library": "var_list.r",
     "varRefreshCmd": "cat(var_dic_list()) "
    }
   },
   "types_to_exclude": [
    "module",
    "function",
    "builtin_function_or_method",
    "instance",
    "_Feature"
   ],
   "window_display": false
  }
 },
 "nbformat": 4,
 "nbformat_minor": 2
}
